{
 "cells": [
  {
   "cell_type": "code",
   "execution_count": 1,
   "id": "26bc49b9",
   "metadata": {},
   "outputs": [],
   "source": [
    "import pandas as pd\n",
    "from mlxtend.frequent_patterns import association_rules, apriori\n",
    "import time"
   ]
  },
  {
   "cell_type": "code",
   "execution_count": 2,
   "id": "bbe18e4c",
   "metadata": {},
   "outputs": [],
   "source": [
    "df = pd.read_excel('HW4_dataset/transaction_dataset.xlsx')"
   ]
  },
  {
   "cell_type": "code",
   "execution_count": 3,
   "id": "20ba05d7",
   "metadata": {},
   "outputs": [],
   "source": [
    "df = df[df['QUANTITY']>0]\n",
    "df.to_excel('HW4_dataset/transaction_dataset_after.xlsx')"
   ]
  },
  {
   "cell_type": "code",
   "execution_count": 4,
   "id": "855c0281",
   "metadata": {},
   "outputs": [],
   "source": [
    "df2 = df[[\"INVOICE_NO\", \"ITEM_ID\"]]"
   ]
  },
  {
   "cell_type": "code",
   "execution_count": 5,
   "id": "3223e92f",
   "metadata": {},
   "outputs": [],
   "source": [
    "h_data = {}\n",
    "items = []\n",
    "v_data = {}\n",
    "for i in df.index:\n",
    "    if df['ITEM_ID'][i] not in items:\n",
    "        items.append(df['ITEM_ID'][i])\n",
    "    if str(df['INVOICE_NO'][i]) in h_data:\n",
    "        h_data[str(df['INVOICE_NO'][i])].append(str(df['ITEM_ID'][i]))\n",
    "    else:\n",
    "        h_data[str(df['INVOICE_NO'][i])] = [str(df['ITEM_ID'][i])]\n",
    "        \n",
    "    if str(df['ITEM_ID'][i]) in v_data:\n",
    "        v_data[str(df['ITEM_ID'][i])].append(str(df['INVOICE_NO'][i]))\n",
    "    else:\n",
    "        v_data[str(df['ITEM_ID'][i])] = [str(df['INVOICE_NO'][i])]"
   ]
  },
  {
   "cell_type": "code",
   "execution_count": 6,
   "id": "2fcb9401",
   "metadata": {},
   "outputs": [],
   "source": [
    "class UtilityList:\n",
    "    def __init__(self, item, UL):\n",
    "        self.item = item\n",
    "        self.UL = UL\n",
    "        pass"
   ]
  },
  {
   "cell_type": "code",
   "execution_count": 7,
   "id": "15433076",
   "metadata": {},
   "outputs": [],
   "source": [
    "def Construct(P_UL, Px_UL, Py_UL):\n",
    "    Pxy_UL = []\n",
    "    Ex_index = 0\n",
    "    Ey_index = 0\n",
    "    while Ex_index < len(Px_UL) and Ey_index < len(Py_UL):\n",
    "        if Px_UL[Ex_index] == Py_UL[Ey_index]:\n",
    "            Exy = []\n",
    "            if P_UL is not None:\n",
    "                for E in range(len(P_UL)):\n",
    "                    if P_UL[E] == Px_UL[Ex_index]:\n",
    "                        Exy = [Px_UL[Ex_index]]\n",
    "            else:\n",
    "                Exy = [Px_UL[Ex_index]]\n",
    "            Pxy_UL.append(Exy)\n",
    "            Ex_index += 1\n",
    "            Ey_index += 1\n",
    "        else:\n",
    "            if Px_UL[Ex_index] > Py_UL[Ey_index]:\n",
    "                Ey_index += 1\n",
    "            else:\n",
    "                Ex_index += 1\n",
    "    return Pxy_UL"
   ]
  },
  {
   "cell_type": "code",
   "execution_count": 8,
   "id": "445b46e0",
   "metadata": {},
   "outputs": [],
   "source": [
    "# brute force\n",
    "def Construct2(P_UL, Px_UL, Py_UL):\n",
    "    Pxy_UL = []\n",
    "    for i in Px_UL:\n",
    "        for j in Py_UL:\n",
    "            if i == j:\n",
    "                Pxy_UL.append(i)\n",
    "    return Pxy_UL"
   ]
  },
  {
   "cell_type": "code",
   "execution_count": 9,
   "id": "e6179beb",
   "metadata": {},
   "outputs": [],
   "source": [
    "def HUI_Miner(P, ULs, minutil):\n",
    "    global frequent_itemsets\n",
    "    for X in ULs:\n",
    "        if len(X.UL) >= minutil:\n",
    "            frequent_itemsets.append([len(X.UL)/len(h_data.keys()), [X.item[0]]])\n",
    "            exULs = []\n",
    "            for Y in ULs[ULs.index(X)+1:]:   \n",
    "                X.item + [Y.item[-1]]\n",
    "                exULs.append(UtilityList(X.item + [Y.item[-1]], Construct2(P.UL, X.UL, Y.UL)))\n",
    "            HUI_Miner(X, exULs, minutil)"
   ]
  },
  {
   "cell_type": "code",
   "execution_count": 10,
   "id": "f381c25a",
   "metadata": {},
   "outputs": [],
   "source": [
    "nn = []\n",
    "for k, v in v_data.items():\n",
    "    nn.append(UtilityList([k], list(set(v_data[k]))))"
   ]
  },
  {
   "cell_type": "code",
   "execution_count": 11,
   "id": "4529d06e",
   "metadata": {},
   "outputs": [],
   "source": [
    "frequent_itemsets = []\n",
    "HUI_Miner(UtilityList('', None), ULs=nn, minutil=len(h_data.keys())*0.001)"
   ]
  },
  {
   "cell_type": "code",
   "execution_count": 12,
   "id": "360cec51",
   "metadata": {},
   "outputs": [],
   "source": [
    "from mlxtend.preprocessing import TransactionEncoder\n",
    "te = TransactionEncoder()\n",
    "te_ary = te.fit(list(h_data.values())).transform(list(h_data.values()))\n",
    "df2 = pd.DataFrame(te_ary, columns=te.columns_)\n",
    "frequent_itemsets = apriori(df2, min_support=0.001, use_colnames=True)\n",
    "\n",
    "rules = association_rules(frequent_itemsets, metric=\"confidence\", min_threshold=0.7)"
   ]
  },
  {
   "cell_type": "code",
   "execution_count": 13,
   "id": "84f2bdc9",
   "metadata": {},
   "outputs": [],
   "source": [
    "rules[\"antecedents\"] = rules[\"antecedents\"].apply(lambda x: ', '.join(list(x))).astype(\"unicode\")\n",
    "rules[\"consequents\"] = rules[\"consequents\"].apply(lambda x: ', '.join(list(x))).astype(\"unicode\")"
   ]
  },
  {
   "cell_type": "code",
   "execution_count": 14,
   "id": "7a65d8d4",
   "metadata": {},
   "outputs": [],
   "source": [
    "import xlsxwriter\n",
    "workbook = xlsxwriter.Workbook('HW4_dataset/rule.xlsx')\n",
    "worksheet = workbook.add_worksheet()\n",
    "worksheet.write(0, 0, \"antecedents\")\n",
    "worksheet.write(0, 1, \"consequents\")\n",
    "row = 1\n",
    "for i, j in zip(rules['antecedents'], rules['consequents']):\n",
    "    worksheet.write(row, 0, i)\n",
    "    worksheet.write(row, 1, j)\n",
    "    row+=1\n",
    "    \n",
    "workbook.close()"
   ]
  },
  {
   "cell_type": "code",
   "execution_count": 15,
   "id": "eefaf010",
   "metadata": {},
   "outputs": [],
   "source": [
    "df_rule = pd.read_excel('HW4_dataset/rule.xlsx')"
   ]
  },
  {
   "cell_type": "code",
   "execution_count": 16,
   "id": "50edd61a",
   "metadata": {},
   "outputs": [
    {
     "data": {
      "text/plain": [
       "[70509]"
      ]
     },
     "execution_count": 16,
     "metadata": {},
     "output_type": "execute_result"
    }
   ],
   "source": [
    "def find_consequents(antecedents, df):\n",
    "    li = []\n",
    "    for k, v in zip(df_rule[\"antecedents\"], df_rule[\"consequents\"]):\n",
    "        if antecedents in k:\n",
    "            li.append(v)\n",
    "    return list(set(li))\n",
    "    \n",
    "\n",
    "find_consequents(\"3336149, 88411\", df_rule)"
   ]
  },
  {
   "cell_type": "code",
   "execution_count": 17,
   "id": "ad900fb3",
   "metadata": {},
   "outputs": [],
   "source": [
    "min_support = [0.001, 0.0011, 0.0012, 0.0013, 0.0014]\n",
    "rules_count = []\n",
    "elapsed_time = []\n",
    "for i in min_support:\n",
    "    start_time = time.time()\n",
    "    te = TransactionEncoder()\n",
    "    te_ary = te.fit(list(h_data.values())).transform(list(h_data.values()))\n",
    "    df2 = pd.DataFrame(te_ary, columns=te.columns_)\n",
    "    frequent_itemsets = apriori(df2, min_support=i, use_colnames=True)\n",
    "    rules = association_rules(frequent_itemsets, metric=\"confidence\", min_threshold=0.7)\n",
    "    elapsed_time.append(time.time()-start_time)\n",
    "    rules_count.append(len(list(rules['antecedents'])))"
   ]
  },
  {
   "cell_type": "code",
   "execution_count": 18,
   "id": "f9622465",
   "metadata": {},
   "outputs": [
    {
     "data": {
      "text/plain": [
       "([23, 12, 9, 3, 2],\n",
       " [20.032211542129517,\n",
       "  13.355047941207886,\n",
       "  10.13478136062622,\n",
       "  7.137845039367676,\n",
       "  5.370582342147827])"
      ]
     },
     "execution_count": 18,
     "metadata": {},
     "output_type": "execute_result"
    }
   ],
   "source": [
    "rules_count, elapsed_time"
   ]
  },
  {
   "cell_type": "code",
   "execution_count": 19,
   "id": "f2893619",
   "metadata": {},
   "outputs": [],
   "source": [
    "confidence = [0.5, 0.55, 0.6, 0.65, 0.7]\n",
    "rules2_count = []\n",
    "elapsed_time2 = []\n",
    "workbook = xlsxwriter.Workbook('HW4_dataset/rule2.xlsx')\n",
    "worksheet = workbook.add_worksheet()\n",
    "\n",
    "for k in range(len(confidence)):\n",
    "    start_time = time.time()\n",
    "    te = TransactionEncoder()\n",
    "    te_ary = te.fit(list(h_data.values())).transform(list(h_data.values()))\n",
    "    df2 = pd.DataFrame(te_ary, columns=te.columns_)\n",
    "    frequent_itemsets = apriori(df2, min_support=0.001, use_colnames=True)\n",
    "    rules = association_rules(frequent_itemsets, metric=\"confidence\", min_threshold=confidence[k])\n",
    "    elapsed_time2.append(time.time()-start_time)\n",
    "    rules2_count.append(len(list(rules['antecedents'])))\n",
    "    \n",
    "    \n",
    "    rules[\"antecedents\"] = rules[\"antecedents\"].apply(lambda x: ', '.join(list(x))).astype(\"unicode\")\n",
    "    rules[\"consequents\"] = rules[\"consequents\"].apply(lambda x: ', '.join(list(x))).astype(\"unicode\")\n",
    "    worksheet.write(0, k*2, \"antecedents\"+str(confidence[k]))\n",
    "    worksheet.write(0, k*2+1, \"consequents\"+str(confidence[k]))\n",
    "    row = 1\n",
    "    for i, j in zip(rules['antecedents'], rules['consequents']):\n",
    "        worksheet.write(row, k*2, i)\n",
    "        worksheet.write(row, k*2+1, j)\n",
    "        row+=1\n",
    "    \n",
    "workbook.close()"
   ]
  },
  {
   "cell_type": "code",
   "execution_count": 20,
   "id": "8c3344c5",
   "metadata": {},
   "outputs": [
    {
     "data": {
      "text/plain": [
       "([57, 48, 39, 31, 23],\n",
       " [20.06312870979309,\n",
       "  19.94255566596985,\n",
       "  19.709089279174805,\n",
       "  19.85069966316223,\n",
       "  19.988331079483032])"
      ]
     },
     "execution_count": 20,
     "metadata": {},
     "output_type": "execute_result"
    }
   ],
   "source": [
    "rules2_count, elapsed_time2"
   ]
  },
  {
   "cell_type": "code",
   "execution_count": 21,
   "id": "71c2eeda",
   "metadata": {},
   "outputs": [
    {
     "name": "stdout",
     "output_type": "stream",
     "text": [
      "[['135493', '3336149', '1698', '23004', '88444', '1708', '1697', '88411'], ['1698', '88444', '1708', '1697', '88411'], ['1708', '1698', '88411', '88444'], ['1708', '88411'], [88411.0]]\n",
      "Product count: [8, 5, 4, 2, 1]\n"
     ]
    }
   ],
   "source": [
    "df_rule2 = pd.read_excel('HW4_dataset/rule2.xlsx')\n",
    "df_rule2.head()\n",
    "\n",
    "def find_consequents2(antecedents, df, confidence):\n",
    "    li = []\n",
    "    for i in confidence:\n",
    "        li2 = []\n",
    "        for k, v in zip(df[\"antecedents\"+str(i)].dropna(), df[\"consequents\"+str(i)].dropna()):\n",
    "            if antecedents in k:\n",
    "                li2.append(v)\n",
    "        li.append(list(set(li2)))\n",
    "    return li\n",
    "\n",
    "confidence = [0.5, 0.55, 0.6, 0.65, 0.7]\n",
    "product_count = find_consequents2(\"70509\", df_rule2, confidence)\n",
    "print(product_count)\n",
    "print(\"Product count:\", [len(x) for x in product_count])"
   ]
  },
  {
   "cell_type": "code",
   "execution_count": 22,
   "id": "b9134c84",
   "metadata": {},
   "outputs": [],
   "source": [
    "from mlxtend.frequent_patterns import fpgrowth\n",
    "\n",
    "frequent_itemsets = fpgrowth(df2, min_support=0.001, use_colnames=True)\n",
    "rules = association_rules(frequent_itemsets, metric=\"confidence\", min_threshold=0.7)"
   ]
  },
  {
   "cell_type": "code",
   "execution_count": 23,
   "id": "fb43386f",
   "metadata": {},
   "outputs": [],
   "source": [
    "min_support = [0.001, 0.0011, 0.0012, 0.0013, 0.0014]\n",
    "rules_count = []\n",
    "elapsed_time = []\n",
    "for i in min_support:\n",
    "    start_time = time.time()\n",
    "    te = TransactionEncoder()\n",
    "    te_ary = te.fit(list(h_data.values())).transform(list(h_data.values()))\n",
    "    df2 = pd.DataFrame(te_ary, columns=te.columns_)\n",
    "    frequent_itemsets = fpgrowth(df2, min_support=i, use_colnames=True)\n",
    "    rules = association_rules(frequent_itemsets, metric=\"confidence\", min_threshold=0.7)\n",
    "    elapsed_time.append(time.time()-start_time)\n",
    "    rules_count.append(len(list(rules['antecedents'])))"
   ]
  },
  {
   "cell_type": "code",
   "execution_count": 28,
   "id": "1ea62142",
   "metadata": {},
   "outputs": [
    {
     "data": {
      "text/plain": [
       "([57, 48, 39, 31, 23],\n",
       " [1.66853928565979,\n",
       "  1.676504373550415,\n",
       "  1.6884393692016602,\n",
       "  1.6844992637634277,\n",
       "  1.7363154888153076])"
      ]
     },
     "execution_count": 28,
     "metadata": {},
     "output_type": "execute_result"
    }
   ],
   "source": [
    "rules_count, elapsed_time"
   ]
  },
  {
   "cell_type": "code",
   "execution_count": 25,
   "id": "3282b64f",
   "metadata": {},
   "outputs": [],
   "source": [
    "confidence = [0.5, 0.55, 0.6, 0.65, 0.7]\n",
    "rules_count = []\n",
    "elapsed_time = []\n",
    "for i in confidence:\n",
    "    start_time = time.time()\n",
    "    te = TransactionEncoder()\n",
    "    te_ary = te.fit(list(h_data.values())).transform(list(h_data.values()))\n",
    "    df2 = pd.DataFrame(te_ary, columns=te.columns_)\n",
    "    frequent_itemsets = fpgrowth(df2, min_support=0.001, use_colnames=True)\n",
    "    rules = association_rules(frequent_itemsets, metric=\"confidence\", min_threshold=i)\n",
    "    elapsed_time.append(time.time()-start_time)\n",
    "    rules_count.append(len(list(rules['antecedents'])))"
   ]
  },
  {
   "cell_type": "code",
   "execution_count": 29,
   "id": "e0d62a79",
   "metadata": {},
   "outputs": [
    {
     "data": {
      "text/plain": [
       "([57, 48, 39, 31, 23],\n",
       " [1.66853928565979,\n",
       "  1.676504373550415,\n",
       "  1.6884393692016602,\n",
       "  1.6844992637634277,\n",
       "  1.7363154888153076])"
      ]
     },
     "execution_count": 29,
     "metadata": {},
     "output_type": "execute_result"
    }
   ],
   "source": [
    "rules_count, elapsed_time"
   ]
  },
  {
   "cell_type": "code",
   "execution_count": null,
   "id": "e4e1e2c9",
   "metadata": {},
   "outputs": [],
   "source": []
  },
  {
   "cell_type": "code",
   "execution_count": null,
   "id": "bc1fa6e0",
   "metadata": {},
   "outputs": [],
   "source": []
  }
 ],
 "metadata": {
  "kernelspec": {
   "display_name": "Python 3 (ipykernel)",
   "language": "python",
   "name": "python3"
  },
  "language_info": {
   "codemirror_mode": {
    "name": "ipython",
    "version": 3
   },
   "file_extension": ".py",
   "mimetype": "text/x-python",
   "name": "python",
   "nbconvert_exporter": "python",
   "pygments_lexer": "ipython3",
   "version": "3.7.1"
  }
 },
 "nbformat": 4,
 "nbformat_minor": 5
}
